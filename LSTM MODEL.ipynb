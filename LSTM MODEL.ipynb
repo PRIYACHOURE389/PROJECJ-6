{
 "cells": [
  {
   "cell_type": "code",
   "execution_count": 1,
   "metadata": {},
   "outputs": [],
   "source": [
    "import numpy as np\n",
    "import pandas as pd\n",
    "import matplotlib.pyplot as plt\n",
    "from sklearn.preprocessing import MinMaxScaler\n",
    "from tensorflow.keras.models import Sequential\n",
    "from tensorflow.keras.layers import LSTM, Dense\n",
    "import pickle\n"
   ]
  },
  {
   "cell_type": "code",
   "execution_count": 2,
   "metadata": {},
   "outputs": [],
   "source": [
    "# Load the dataset\n",
    "file_path = r'C:\\Users\\admin\\OneDrive\\Desktop\\pharma project-6\\Pharma-project-6\\sales_data.csv'\n",
    "sales_data = pd.read_csv(file_path, low_memory=False)"
   ]
  },
  {
   "cell_type": "code",
   "execution_count": 3,
   "metadata": {},
   "outputs": [],
   "source": [
    "# Extract features and target\n",
    "dates = sales_data['Date']\n",
    "sales = sales_data['Sales']\n"
   ]
  },
  {
   "cell_type": "code",
   "execution_count": 4,
   "metadata": {},
   "outputs": [],
   "source": [
    "# Split data into train and test sets\n",
    "train_size = int(len(sales) * 0.8)\n",
    "test_size = len(sales) - train_size\n",
    "train, test = sales[0:train_size], sales[train_size:len(sales)]\n"
   ]
  },
  {
   "cell_type": "code",
   "execution_count": 5,
   "metadata": {},
   "outputs": [],
   "source": [
    "# Normalize the dataset\n",
    "scaler = MinMaxScaler(feature_range=(0, 1))\n",
    "train_scaled = scaler.fit_transform(np.array(train).reshape(-1, 1))\n",
    "test_scaled = scaler.transform(np.array(test).reshape(-1, 1))\n"
   ]
  },
  {
   "cell_type": "code",
   "execution_count": 6,
   "metadata": {},
   "outputs": [],
   "source": [
    "# Function to create dataset for LSTM\n",
    "def create_dataset(dataset, time_step=1):\n",
    "    dataX, dataY = [], []\n",
    "    for i in range(len(dataset)-time_step-1):\n",
    "        a = dataset[i:(i+time_step), 0]\n",
    "        dataX.append(a)\n",
    "        dataY.append(dataset[i + time_step, 0])\n",
    "    return np.array(dataX), np.array(dataY)\n"
   ]
  },
  {
   "cell_type": "code",
   "execution_count": 7,
   "metadata": {},
   "outputs": [],
   "source": [
    "time_step = 1\n",
    "X_train, y_train = create_dataset(train_scaled, time_step)\n",
    "X_test, y_test = create_dataset(test_scaled, time_step)\n",
    "\n",
    "X_train = X_train.reshape(X_train.shape[0], X_train.shape[1], 1)\n",
    "X_test = X_test.reshape(X_test.shape[0], X_test.shape[1], 1)\n"
   ]
  },
  {
   "cell_type": "code",
   "execution_count": 8,
   "metadata": {},
   "outputs": [
    {
     "name": "stderr",
     "output_type": "stream",
     "text": [
      "c:\\Users\\admin\\AppData\\Local\\Programs\\Python\\Python311\\Lib\\site-packages\\keras\\src\\layers\\rnn\\rnn.py:205: UserWarning: Do not pass an `input_shape`/`input_dim` argument to a layer. When using Sequential models, prefer using an `Input(shape)` object as the first layer in the model instead.\n",
      "  super().__init__(**kwargs)\n"
     ]
    }
   ],
   "source": [
    "# Build LSTM model\n",
    "model = Sequential()\n",
    "model.add(LSTM(units=50, return_sequences=True, input_shape=(X_train.shape[1], 1)))\n",
    "model.add(LSTM(units=50))\n",
    "model.add(Dense(units=1))"
   ]
  },
  {
   "cell_type": "code",
   "execution_count": 9,
   "metadata": {},
   "outputs": [],
   "source": [
    "# Compile the model\n",
    "model.compile(optimizer='adam', loss='mean_squared_error')"
   ]
  },
  {
   "cell_type": "code",
   "execution_count": 10,
   "metadata": {},
   "outputs": [
    {
     "name": "stdout",
     "output_type": "stream",
     "text": [
      "Epoch 1/100\n",
      "\u001b[1m25431/25431\u001b[0m \u001b[32m━━━━━━━━━━━━━━━━━━━━\u001b[0m\u001b[37m\u001b[0m \u001b[1m68s\u001b[0m 2ms/step - loss: 0.0053\n",
      "Epoch 2/100\n",
      "\u001b[1m25431/25431\u001b[0m \u001b[32m━━━━━━━━━━━━━━━━━━━━\u001b[0m\u001b[37m\u001b[0m \u001b[1m64s\u001b[0m 2ms/step - loss: 0.0049\n",
      "Epoch 3/100\n",
      "\u001b[1m25431/25431\u001b[0m \u001b[32m━━━━━━━━━━━━━━━━━━━━\u001b[0m\u001b[37m\u001b[0m \u001b[1m64s\u001b[0m 3ms/step - loss: 0.0049\n",
      "Epoch 4/100\n",
      "\u001b[1m25431/25431\u001b[0m \u001b[32m━━━━━━━━━━━━━━━━━━━━\u001b[0m\u001b[37m\u001b[0m \u001b[1m82s\u001b[0m 3ms/step - loss: 0.0049\n",
      "Epoch 5/100\n",
      "\u001b[1m25431/25431\u001b[0m \u001b[32m━━━━━━━━━━━━━━━━━━━━\u001b[0m\u001b[37m\u001b[0m \u001b[1m63s\u001b[0m 2ms/step - loss: 0.0049\n",
      "Epoch 6/100\n",
      "\u001b[1m25431/25431\u001b[0m \u001b[32m━━━━━━━━━━━━━━━━━━━━\u001b[0m\u001b[37m\u001b[0m \u001b[1m59s\u001b[0m 2ms/step - loss: 0.0049\n",
      "Epoch 7/100\n",
      "\u001b[1m25431/25431\u001b[0m \u001b[32m━━━━━━━━━━━━━━━━━━━━\u001b[0m\u001b[37m\u001b[0m \u001b[1m59s\u001b[0m 2ms/step - loss: 0.0049\n",
      "Epoch 8/100\n",
      "\u001b[1m25431/25431\u001b[0m \u001b[32m━━━━━━━━━━━━━━━━━━━━\u001b[0m\u001b[37m\u001b[0m \u001b[1m82s\u001b[0m 2ms/step - loss: 0.0049\n",
      "Epoch 9/100\n",
      "\u001b[1m25431/25431\u001b[0m \u001b[32m━━━━━━━━━━━━━━━━━━━━\u001b[0m\u001b[37m\u001b[0m \u001b[1m60s\u001b[0m 2ms/step - loss: 0.0049\n",
      "Epoch 10/100\n",
      "\u001b[1m25431/25431\u001b[0m \u001b[32m━━━━━━━━━━━━━━━━━━━━\u001b[0m\u001b[37m\u001b[0m \u001b[1m83s\u001b[0m 2ms/step - loss: 0.0049\n",
      "Epoch 11/100\n",
      "\u001b[1m25431/25431\u001b[0m \u001b[32m━━━━━━━━━━━━━━━━━━━━\u001b[0m\u001b[37m\u001b[0m \u001b[1m61s\u001b[0m 2ms/step - loss: 0.0048\n",
      "Epoch 12/100\n",
      "\u001b[1m25431/25431\u001b[0m \u001b[32m━━━━━━━━━━━━━━━━━━━━\u001b[0m\u001b[37m\u001b[0m \u001b[1m65s\u001b[0m 3ms/step - loss: 0.0049\n",
      "Epoch 13/100\n",
      "\u001b[1m25431/25431\u001b[0m \u001b[32m━━━━━━━━━━━━━━━━━━━━\u001b[0m\u001b[37m\u001b[0m \u001b[1m61s\u001b[0m 2ms/step - loss: 0.0049\n",
      "Epoch 14/100\n",
      "\u001b[1m25431/25431\u001b[0m \u001b[32m━━━━━━━━━━━━━━━━━━━━\u001b[0m\u001b[37m\u001b[0m \u001b[1m549s\u001b[0m 22ms/step - loss: 0.0049\n",
      "Epoch 15/100\n",
      "\u001b[1m25431/25431\u001b[0m \u001b[32m━━━━━━━━━━━━━━━━━━━━\u001b[0m\u001b[37m\u001b[0m \u001b[1m70s\u001b[0m 3ms/step - loss: 0.0049\n",
      "Epoch 16/100\n",
      "\u001b[1m25431/25431\u001b[0m \u001b[32m━━━━━━━━━━━━━━━━━━━━\u001b[0m\u001b[37m\u001b[0m \u001b[1m70s\u001b[0m 3ms/step - loss: 0.0049\n",
      "Epoch 17/100\n",
      "\u001b[1m25431/25431\u001b[0m \u001b[32m━━━━━━━━━━━━━━━━━━━━\u001b[0m\u001b[37m\u001b[0m \u001b[1m69s\u001b[0m 3ms/step - loss: 0.0049\n",
      "Epoch 18/100\n",
      "\u001b[1m25431/25431\u001b[0m \u001b[32m━━━━━━━━━━━━━━━━━━━━\u001b[0m\u001b[37m\u001b[0m \u001b[1m70s\u001b[0m 3ms/step - loss: 0.0049\n",
      "Epoch 19/100\n",
      "\u001b[1m25431/25431\u001b[0m \u001b[32m━━━━━━━━━━━━━━━━━━━━\u001b[0m\u001b[37m\u001b[0m \u001b[1m81s\u001b[0m 3ms/step - loss: 0.0049\n",
      "Epoch 20/100\n",
      "\u001b[1m25431/25431\u001b[0m \u001b[32m━━━━━━━━━━━━━━━━━━━━\u001b[0m\u001b[37m\u001b[0m \u001b[1m69s\u001b[0m 3ms/step - loss: 0.0049\n",
      "Epoch 21/100\n",
      "\u001b[1m25431/25431\u001b[0m \u001b[32m━━━━━━━━━━━━━━━━━━━━\u001b[0m\u001b[37m\u001b[0m \u001b[1m70s\u001b[0m 3ms/step - loss: 0.0049\n",
      "Epoch 22/100\n",
      "\u001b[1m25431/25431\u001b[0m \u001b[32m━━━━━━━━━━━━━━━━━━━━\u001b[0m\u001b[37m\u001b[0m \u001b[1m69s\u001b[0m 3ms/step - loss: 0.0049\n",
      "Epoch 23/100\n",
      "\u001b[1m25431/25431\u001b[0m \u001b[32m━━━━━━━━━━━━━━━━━━━━\u001b[0m\u001b[37m\u001b[0m \u001b[1m62s\u001b[0m 2ms/step - loss: 0.0048\n",
      "Epoch 24/100\n",
      "\u001b[1m25431/25431\u001b[0m \u001b[32m━━━━━━━━━━━━━━━━━━━━\u001b[0m\u001b[37m\u001b[0m \u001b[1m62s\u001b[0m 2ms/step - loss: 0.0049\n",
      "Epoch 25/100\n",
      "\u001b[1m25431/25431\u001b[0m \u001b[32m━━━━━━━━━━━━━━━━━━━━\u001b[0m\u001b[37m\u001b[0m \u001b[1m63s\u001b[0m 2ms/step - loss: 0.0049\n",
      "Epoch 26/100\n",
      "\u001b[1m25431/25431\u001b[0m \u001b[32m━━━━━━━━━━━━━━━━━━━━\u001b[0m\u001b[37m\u001b[0m \u001b[1m62s\u001b[0m 2ms/step - loss: 0.0049\n",
      "Epoch 27/100\n",
      "\u001b[1m25431/25431\u001b[0m \u001b[32m━━━━━━━━━━━━━━━━━━━━\u001b[0m\u001b[37m\u001b[0m \u001b[1m62s\u001b[0m 2ms/step - loss: 0.0049\n",
      "Epoch 28/100\n",
      "\u001b[1m25431/25431\u001b[0m \u001b[32m━━━━━━━━━━━━━━━━━━━━\u001b[0m\u001b[37m\u001b[0m \u001b[1m79s\u001b[0m 3ms/step - loss: 0.0049\n",
      "Epoch 29/100\n",
      "\u001b[1m25431/25431\u001b[0m \u001b[32m━━━━━━━━━━━━━━━━━━━━\u001b[0m\u001b[37m\u001b[0m \u001b[1m88s\u001b[0m 3ms/step - loss: 0.0049\n",
      "Epoch 30/100\n",
      "\u001b[1m25431/25431\u001b[0m \u001b[32m━━━━━━━━━━━━━━━━━━━━\u001b[0m\u001b[37m\u001b[0m \u001b[1m87s\u001b[0m 3ms/step - loss: 0.0049\n",
      "Epoch 31/100\n",
      "\u001b[1m25431/25431\u001b[0m \u001b[32m━━━━━━━━━━━━━━━━━━━━\u001b[0m\u001b[37m\u001b[0m \u001b[1m139s\u001b[0m 5ms/step - loss: 0.0049\n",
      "Epoch 32/100\n",
      "\u001b[1m25431/25431\u001b[0m \u001b[32m━━━━━━━━━━━━━━━━━━━━\u001b[0m\u001b[37m\u001b[0m \u001b[1m141s\u001b[0m 6ms/step - loss: 0.0049\n",
      "Epoch 33/100\n",
      "\u001b[1m25431/25431\u001b[0m \u001b[32m━━━━━━━━━━━━━━━━━━━━\u001b[0m\u001b[37m\u001b[0m \u001b[1m100s\u001b[0m 4ms/step - loss: 0.0049\n",
      "Epoch 34/100\n",
      "\u001b[1m25431/25431\u001b[0m \u001b[32m━━━━━━━━━━━━━━━━━━━━\u001b[0m\u001b[37m\u001b[0m \u001b[1m139s\u001b[0m 5ms/step - loss: 0.0048\n",
      "Epoch 35/100\n",
      "\u001b[1m25431/25431\u001b[0m \u001b[32m━━━━━━━━━━━━━━━━━━━━\u001b[0m\u001b[37m\u001b[0m \u001b[1m139s\u001b[0m 5ms/step - loss: 0.0048\n",
      "Epoch 36/100\n",
      "\u001b[1m25431/25431\u001b[0m \u001b[32m━━━━━━━━━━━━━━━━━━━━\u001b[0m\u001b[37m\u001b[0m \u001b[1m154s\u001b[0m 6ms/step - loss: 0.0048\n",
      "Epoch 37/100\n",
      "\u001b[1m25431/25431\u001b[0m \u001b[32m━━━━━━━━━━━━━━━━━━━━\u001b[0m\u001b[37m\u001b[0m \u001b[1m118s\u001b[0m 3ms/step - loss: 0.0049\n",
      "Epoch 38/100\n",
      "\u001b[1m25431/25431\u001b[0m \u001b[32m━━━━━━━━━━━━━━━━━━━━\u001b[0m\u001b[37m\u001b[0m \u001b[1m71s\u001b[0m 3ms/step - loss: 0.0048\n",
      "Epoch 39/100\n",
      "\u001b[1m25431/25431\u001b[0m \u001b[32m━━━━━━━━━━━━━━━━━━━━\u001b[0m\u001b[37m\u001b[0m \u001b[1m70s\u001b[0m 3ms/step - loss: 0.0049\n",
      "Epoch 40/100\n",
      "\u001b[1m25431/25431\u001b[0m \u001b[32m━━━━━━━━━━━━━━━━━━━━\u001b[0m\u001b[37m\u001b[0m \u001b[1m71s\u001b[0m 3ms/step - loss: 0.0048\n",
      "Epoch 41/100\n",
      "\u001b[1m25431/25431\u001b[0m \u001b[32m━━━━━━━━━━━━━━━━━━━━\u001b[0m\u001b[37m\u001b[0m \u001b[1m71s\u001b[0m 3ms/step - loss: 0.0049\n",
      "Epoch 42/100\n",
      "\u001b[1m25431/25431\u001b[0m \u001b[32m━━━━━━━━━━━━━━━━━━━━\u001b[0m\u001b[37m\u001b[0m \u001b[1m72s\u001b[0m 3ms/step - loss: 0.0049\n",
      "Epoch 43/100\n",
      "\u001b[1m25431/25431\u001b[0m \u001b[32m━━━━━━━━━━━━━━━━━━━━\u001b[0m\u001b[37m\u001b[0m \u001b[1m72s\u001b[0m 3ms/step - loss: 0.0049\n",
      "Epoch 44/100\n",
      "\u001b[1m25431/25431\u001b[0m \u001b[32m━━━━━━━━━━━━━━━━━━━━\u001b[0m\u001b[37m\u001b[0m \u001b[1m75s\u001b[0m 3ms/step - loss: 0.0049\n",
      "Epoch 45/100\n",
      "\u001b[1m25431/25431\u001b[0m \u001b[32m━━━━━━━━━━━━━━━━━━━━\u001b[0m\u001b[37m\u001b[0m \u001b[1m72s\u001b[0m 3ms/step - loss: 0.0049\n",
      "Epoch 46/100\n",
      "\u001b[1m25431/25431\u001b[0m \u001b[32m━━━━━━━━━━━━━━━━━━━━\u001b[0m\u001b[37m\u001b[0m \u001b[1m76s\u001b[0m 3ms/step - loss: 0.0049\n",
      "Epoch 47/100\n",
      "\u001b[1m25431/25431\u001b[0m \u001b[32m━━━━━━━━━━━━━━━━━━━━\u001b[0m\u001b[37m\u001b[0m \u001b[1m72s\u001b[0m 3ms/step - loss: 0.0049\n",
      "Epoch 48/100\n",
      "\u001b[1m25431/25431\u001b[0m \u001b[32m━━━━━━━━━━━━━━━━━━━━\u001b[0m\u001b[37m\u001b[0m \u001b[1m72s\u001b[0m 3ms/step - loss: 0.0049\n",
      "Epoch 49/100\n",
      "\u001b[1m25431/25431\u001b[0m \u001b[32m━━━━━━━━━━━━━━━━━━━━\u001b[0m\u001b[37m\u001b[0m \u001b[1m73s\u001b[0m 3ms/step - loss: 0.0048\n",
      "Epoch 50/100\n",
      "\u001b[1m25431/25431\u001b[0m \u001b[32m━━━━━━━━━━━━━━━━━━━━\u001b[0m\u001b[37m\u001b[0m \u001b[1m72s\u001b[0m 3ms/step - loss: 0.0049\n",
      "Epoch 51/100\n",
      "\u001b[1m25431/25431\u001b[0m \u001b[32m━━━━━━━━━━━━━━━━━━━━\u001b[0m\u001b[37m\u001b[0m \u001b[1m83s\u001b[0m 3ms/step - loss: 0.0049\n",
      "Epoch 52/100\n",
      "\u001b[1m25431/25431\u001b[0m \u001b[32m━━━━━━━━━━━━━━━━━━━━\u001b[0m\u001b[37m\u001b[0m \u001b[1m75s\u001b[0m 3ms/step - loss: 0.0049\n",
      "Epoch 53/100\n",
      "\u001b[1m25431/25431\u001b[0m \u001b[32m━━━━━━━━━━━━━━━━━━━━\u001b[0m\u001b[37m\u001b[0m \u001b[1m71s\u001b[0m 3ms/step - loss: 0.0049\n",
      "Epoch 54/100\n",
      "\u001b[1m25431/25431\u001b[0m \u001b[32m━━━━━━━━━━━━━━━━━━━━\u001b[0m\u001b[37m\u001b[0m \u001b[1m71s\u001b[0m 3ms/step - loss: 0.0049\n",
      "Epoch 55/100\n",
      "\u001b[1m25431/25431\u001b[0m \u001b[32m━━━━━━━━━━━━━━━━━━━━\u001b[0m\u001b[37m\u001b[0m \u001b[1m71s\u001b[0m 3ms/step - loss: 0.0049\n",
      "Epoch 56/100\n",
      "\u001b[1m25431/25431\u001b[0m \u001b[32m━━━━━━━━━━━━━━━━━━━━\u001b[0m\u001b[37m\u001b[0m \u001b[1m71s\u001b[0m 3ms/step - loss: 0.0049\n",
      "Epoch 57/100\n",
      "\u001b[1m25431/25431\u001b[0m \u001b[32m━━━━━━━━━━━━━━━━━━━━\u001b[0m\u001b[37m\u001b[0m \u001b[1m72s\u001b[0m 3ms/step - loss: 0.0049\n",
      "Epoch 58/100\n",
      "\u001b[1m25431/25431\u001b[0m \u001b[32m━━━━━━━━━━━━━━━━━━━━\u001b[0m\u001b[37m\u001b[0m \u001b[1m72s\u001b[0m 3ms/step - loss: 0.0049\n",
      "Epoch 59/100\n",
      "\u001b[1m25431/25431\u001b[0m \u001b[32m━━━━━━━━━━━━━━━━━━━━\u001b[0m\u001b[37m\u001b[0m \u001b[1m70s\u001b[0m 3ms/step - loss: 0.0049\n",
      "Epoch 60/100\n",
      "\u001b[1m25431/25431\u001b[0m \u001b[32m━━━━━━━━━━━━━━━━━━━━\u001b[0m\u001b[37m\u001b[0m \u001b[1m84s\u001b[0m 3ms/step - loss: 0.0049\n",
      "Epoch 61/100\n",
      "\u001b[1m25431/25431\u001b[0m \u001b[32m━━━━━━━━━━━━━━━━━━━━\u001b[0m\u001b[37m\u001b[0m \u001b[1m71s\u001b[0m 3ms/step - loss: 0.0049\n",
      "Epoch 62/100\n",
      "\u001b[1m25431/25431\u001b[0m \u001b[32m━━━━━━━━━━━━━━━━━━━━\u001b[0m\u001b[37m\u001b[0m \u001b[1m70s\u001b[0m 3ms/step - loss: 0.0049\n",
      "Epoch 63/100\n",
      "\u001b[1m25431/25431\u001b[0m \u001b[32m━━━━━━━━━━━━━━━━━━━━\u001b[0m\u001b[37m\u001b[0m \u001b[1m82s\u001b[0m 3ms/step - loss: 0.0049\n",
      "Epoch 64/100\n",
      "\u001b[1m25431/25431\u001b[0m \u001b[32m━━━━━━━━━━━━━━━━━━━━\u001b[0m\u001b[37m\u001b[0m \u001b[1m70s\u001b[0m 3ms/step - loss: 0.0048\n",
      "Epoch 65/100\n",
      "\u001b[1m25431/25431\u001b[0m \u001b[32m━━━━━━━━━━━━━━━━━━━━\u001b[0m\u001b[37m\u001b[0m \u001b[1m71s\u001b[0m 3ms/step - loss: 0.0049\n",
      "Epoch 66/100\n",
      "\u001b[1m25431/25431\u001b[0m \u001b[32m━━━━━━━━━━━━━━━━━━━━\u001b[0m\u001b[37m\u001b[0m \u001b[1m70s\u001b[0m 3ms/step - loss: 0.0048\n",
      "Epoch 67/100\n",
      "\u001b[1m25431/25431\u001b[0m \u001b[32m━━━━━━━━━━━━━━━━━━━━\u001b[0m\u001b[37m\u001b[0m \u001b[1m71s\u001b[0m 3ms/step - loss: 0.0049\n",
      "Epoch 68/100\n",
      "\u001b[1m25431/25431\u001b[0m \u001b[32m━━━━━━━━━━━━━━━━━━━━\u001b[0m\u001b[37m\u001b[0m \u001b[1m72s\u001b[0m 3ms/step - loss: 0.0049\n",
      "Epoch 69/100\n",
      "\u001b[1m25431/25431\u001b[0m \u001b[32m━━━━━━━━━━━━━━━━━━━━\u001b[0m\u001b[37m\u001b[0m \u001b[1m72s\u001b[0m 3ms/step - loss: 0.0049\n",
      "Epoch 70/100\n",
      "\u001b[1m25431/25431\u001b[0m \u001b[32m━━━━━━━━━━━━━━━━━━━━\u001b[0m\u001b[37m\u001b[0m \u001b[1m72s\u001b[0m 3ms/step - loss: 0.0048\n",
      "Epoch 71/100\n",
      "\u001b[1m25431/25431\u001b[0m \u001b[32m━━━━━━━━━━━━━━━━━━━━\u001b[0m\u001b[37m\u001b[0m \u001b[1m72s\u001b[0m 3ms/step - loss: 0.0048\n",
      "Epoch 72/100\n",
      "\u001b[1m25431/25431\u001b[0m \u001b[32m━━━━━━━━━━━━━━━━━━━━\u001b[0m\u001b[37m\u001b[0m \u001b[1m71s\u001b[0m 3ms/step - loss: 0.0048\n",
      "Epoch 73/100\n",
      "\u001b[1m25431/25431\u001b[0m \u001b[32m━━━━━━━━━━━━━━━━━━━━\u001b[0m\u001b[37m\u001b[0m \u001b[1m72s\u001b[0m 3ms/step - loss: 0.0048\n",
      "Epoch 74/100\n",
      "\u001b[1m25431/25431\u001b[0m \u001b[32m━━━━━━━━━━━━━━━━━━━━\u001b[0m\u001b[37m\u001b[0m \u001b[1m74s\u001b[0m 3ms/step - loss: 0.0048\n",
      "Epoch 75/100\n",
      "\u001b[1m25431/25431\u001b[0m \u001b[32m━━━━━━━━━━━━━━━━━━━━\u001b[0m\u001b[37m\u001b[0m \u001b[1m87s\u001b[0m 3ms/step - loss: 0.0048\n",
      "Epoch 76/100\n",
      "\u001b[1m25431/25431\u001b[0m \u001b[32m━━━━━━━━━━━━━━━━━━━━\u001b[0m\u001b[37m\u001b[0m \u001b[1m77s\u001b[0m 3ms/step - loss: 0.0049\n",
      "Epoch 77/100\n",
      "\u001b[1m25431/25431\u001b[0m \u001b[32m━━━━━━━━━━━━━━━━━━━━\u001b[0m\u001b[37m\u001b[0m \u001b[1m71s\u001b[0m 3ms/step - loss: 0.0049\n",
      "Epoch 78/100\n",
      "\u001b[1m25431/25431\u001b[0m \u001b[32m━━━━━━━━━━━━━━━━━━━━\u001b[0m\u001b[37m\u001b[0m \u001b[1m71s\u001b[0m 3ms/step - loss: 0.0049\n",
      "Epoch 79/100\n",
      "\u001b[1m25431/25431\u001b[0m \u001b[32m━━━━━━━━━━━━━━━━━━━━\u001b[0m\u001b[37m\u001b[0m \u001b[1m71s\u001b[0m 3ms/step - loss: 0.0049\n",
      "Epoch 80/100\n",
      "\u001b[1m25431/25431\u001b[0m \u001b[32m━━━━━━━━━━━━━━━━━━━━\u001b[0m\u001b[37m\u001b[0m \u001b[1m71s\u001b[0m 3ms/step - loss: 0.0049\n",
      "Epoch 81/100\n",
      "\u001b[1m25431/25431\u001b[0m \u001b[32m━━━━━━━━━━━━━━━━━━━━\u001b[0m\u001b[37m\u001b[0m \u001b[1m71s\u001b[0m 3ms/step - loss: 0.0048\n",
      "Epoch 82/100\n",
      "\u001b[1m25431/25431\u001b[0m \u001b[32m━━━━━━━━━━━━━━━━━━━━\u001b[0m\u001b[37m\u001b[0m \u001b[1m71s\u001b[0m 3ms/step - loss: 0.0049\n",
      "Epoch 83/100\n",
      "\u001b[1m25431/25431\u001b[0m \u001b[32m━━━━━━━━━━━━━━━━━━━━\u001b[0m\u001b[37m\u001b[0m \u001b[1m71s\u001b[0m 3ms/step - loss: 0.0049\n",
      "Epoch 84/100\n",
      "\u001b[1m25431/25431\u001b[0m \u001b[32m━━━━━━━━━━━━━━━━━━━━\u001b[0m\u001b[37m\u001b[0m \u001b[1m70s\u001b[0m 3ms/step - loss: 0.0048\n",
      "Epoch 85/100\n",
      "\u001b[1m25431/25431\u001b[0m \u001b[32m━━━━━━━━━━━━━━━━━━━━\u001b[0m\u001b[37m\u001b[0m \u001b[1m71s\u001b[0m 3ms/step - loss: 0.0049\n",
      "Epoch 86/100\n",
      "\u001b[1m25431/25431\u001b[0m \u001b[32m━━━━━━━━━━━━━━━━━━━━\u001b[0m\u001b[37m\u001b[0m \u001b[1m73s\u001b[0m 3ms/step - loss: 0.0049\n",
      "Epoch 87/100\n",
      "\u001b[1m25431/25431\u001b[0m \u001b[32m━━━━━━━━━━━━━━━━━━━━\u001b[0m\u001b[37m\u001b[0m \u001b[1m72s\u001b[0m 3ms/step - loss: 0.0049\n",
      "Epoch 88/100\n",
      "\u001b[1m25431/25431\u001b[0m \u001b[32m━━━━━━━━━━━━━━━━━━━━\u001b[0m\u001b[37m\u001b[0m \u001b[1m74s\u001b[0m 3ms/step - loss: 0.0049\n",
      "Epoch 89/100\n",
      "\u001b[1m25431/25431\u001b[0m \u001b[32m━━━━━━━━━━━━━━━━━━━━\u001b[0m\u001b[37m\u001b[0m \u001b[1m72s\u001b[0m 3ms/step - loss: 0.0049\n",
      "Epoch 90/100\n",
      "\u001b[1m25431/25431\u001b[0m \u001b[32m━━━━━━━━━━━━━━━━━━━━\u001b[0m\u001b[37m\u001b[0m \u001b[1m72s\u001b[0m 3ms/step - loss: 0.0049\n",
      "Epoch 91/100\n",
      "\u001b[1m25431/25431\u001b[0m \u001b[32m━━━━━━━━━━━━━━━━━━━━\u001b[0m\u001b[37m\u001b[0m \u001b[1m72s\u001b[0m 3ms/step - loss: 0.0049\n",
      "Epoch 92/100\n",
      "\u001b[1m25431/25431\u001b[0m \u001b[32m━━━━━━━━━━━━━━━━━━━━\u001b[0m\u001b[37m\u001b[0m \u001b[1m72s\u001b[0m 3ms/step - loss: 0.0049\n",
      "Epoch 93/100\n",
      "\u001b[1m25431/25431\u001b[0m \u001b[32m━━━━━━━━━━━━━━━━━━━━\u001b[0m\u001b[37m\u001b[0m \u001b[1m72s\u001b[0m 3ms/step - loss: 0.0048\n",
      "Epoch 94/100\n",
      "\u001b[1m25431/25431\u001b[0m \u001b[32m━━━━━━━━━━━━━━━━━━━━\u001b[0m\u001b[37m\u001b[0m \u001b[1m68s\u001b[0m 3ms/step - loss: 0.0049\n",
      "Epoch 95/100\n",
      "\u001b[1m25431/25431\u001b[0m \u001b[32m━━━━━━━━━━━━━━━━━━━━\u001b[0m\u001b[37m\u001b[0m \u001b[1m73s\u001b[0m 3ms/step - loss: 0.0049\n",
      "Epoch 96/100\n",
      "\u001b[1m25431/25431\u001b[0m \u001b[32m━━━━━━━━━━━━━━━━━━━━\u001b[0m\u001b[37m\u001b[0m \u001b[1m70s\u001b[0m 3ms/step - loss: 0.0049\n",
      "Epoch 97/100\n",
      "\u001b[1m25431/25431\u001b[0m \u001b[32m━━━━━━━━━━━━━━━━━━━━\u001b[0m\u001b[37m\u001b[0m \u001b[1m70s\u001b[0m 3ms/step - loss: 0.0048\n",
      "Epoch 98/100\n",
      "\u001b[1m25431/25431\u001b[0m \u001b[32m━━━━━━━━━━━━━━━━━━━━\u001b[0m\u001b[37m\u001b[0m \u001b[1m70s\u001b[0m 3ms/step - loss: 0.0049\n",
      "Epoch 99/100\n",
      "\u001b[1m25431/25431\u001b[0m \u001b[32m━━━━━━━━━━━━━━━━━━━━\u001b[0m\u001b[37m\u001b[0m \u001b[1m75s\u001b[0m 3ms/step - loss: 0.0049\n",
      "Epoch 100/100\n",
      "\u001b[1m25431/25431\u001b[0m \u001b[32m━━━━━━━━━━━━━━━━━━━━\u001b[0m\u001b[37m\u001b[0m \u001b[1m71s\u001b[0m 3ms/step - loss: 0.0049\n"
     ]
    },
    {
     "data": {
      "text/plain": [
       "<keras.src.callbacks.history.History at 0x2bd965c1790>"
      ]
     },
     "execution_count": 10,
     "metadata": {},
     "output_type": "execute_result"
    }
   ],
   "source": [
    "# Assuming you have X_train and y_train defined\n",
    "model.fit(X_train, y_train, epochs=100, batch_size=32, verbose=1)"
   ]
  },
  {
   "cell_type": "code",
   "execution_count": 11,
   "metadata": {},
   "outputs": [
    {
     "name": "stdout",
     "output_type": "stream",
     "text": [
      "\u001b[1m25431/25431\u001b[0m \u001b[32m━━━━━━━━━━━━━━━━━━━━\u001b[0m\u001b[37m\u001b[0m \u001b[1m47s\u001b[0m 2ms/step\n",
      "\u001b[1m6358/6358\u001b[0m \u001b[32m━━━━━━━━━━━━━━━━━━━━\u001b[0m\u001b[37m\u001b[0m \u001b[1m11s\u001b[0m 2ms/step\n"
     ]
    }
   ],
   "source": [
    "# Make predictions\n",
    "train_predict = model.predict(X_train)\n",
    "test_predict = model.predict(X_test)\n"
   ]
  },
  {
   "cell_type": "code",
   "execution_count": 14,
   "metadata": {},
   "outputs": [],
   "source": [
    "# Inverse transform predictions\n",
    "train_predict_inv = scaler.inverse_transform(train_predict)\n",
    "test_predict_inv = scaler.inverse_transform(test_predict)"
   ]
  },
  {
   "cell_type": "code",
   "execution_count": 19,
   "metadata": {},
   "outputs": [],
   "source": [
    "# Reshape predictions\n",
    "train_predict_flat = train_predict_inv.flatten()\n",
    "test_predict_flat = test_predict_inv.flatten()\n"
   ]
  },
  {
   "cell_type": "code",
   "execution_count": 20,
   "metadata": {},
   "outputs": [],
   "source": [
    "# Reshape true values (assuming X_train and X_test are 2D arrays)\n",
    "train_true_flat = X_train.flatten()\n",
    "test_true_flat = X_test.flatten()"
   ]
  },
  {
   "cell_type": "code",
   "execution_count": 21,
   "metadata": {},
   "outputs": [
    {
     "name": "stdout",
     "output_type": "stream",
     "text": [
      "Train MSE: 6.745728937340803e+16\n",
      "Test MSE: 6.4750796256237336e+16\n"
     ]
    }
   ],
   "source": [
    "# Calculate MSE\n",
    "train_mse = mean_squared_error(train_true_flat, train_predict_flat)\n",
    "test_mse = mean_squared_error(test_true_flat, test_predict_flat)\n",
    "\n",
    "print(\"Train MSE:\", train_mse)\n",
    "print(\"Test MSE:\", test_mse)"
   ]
  },
  {
   "cell_type": "code",
   "execution_count": 27,
   "metadata": {},
   "outputs": [],
   "source": [
    "import pickle\n",
    "\n",
    "# Serialize model architecture to JSON\n",
    "model_json = model.to_json()\n",
    "with open(\"lstm_regression_model_architecture.json\", \"w\") as json_file:\n",
    "    json_file.write(model_json)\n",
    "\n",
    "# Serialize model weights with the correct filename\n",
    "model.save_weights(\"lstm_regression_model_weights.weights.h5\")\n",
    "\n",
    "# Save the scaler object\n",
    "with open(\"scaler.pkl\", \"wb\") as f:\n",
    "    pickle.dump(scaler, f)"
   ]
  },
  {
   "cell_type": "code",
   "execution_count": 28,
   "metadata": {},
   "outputs": [],
   "source": [
    "# Create DataFrames for train and test predictions\n",
    "train_predictions_df = pd.DataFrame(train_predict_inv, columns=[\"Predictions\"])\n",
    "test_predictions_df = pd.DataFrame(test_predict_inv, columns=[\"Predictions\"])\n",
    "\n",
    "# Save train and test predictions to CSV files\n",
    "train_predictions_df.to_csv(\"train_predictions.csv\", index=False)\n",
    "test_predictions_df.to_csv(\"test_predictions.csv\", index=False)"
   ]
  },
  {
   "cell_type": "code",
   "execution_count": 29,
   "metadata": {},
   "outputs": [
    {
     "name": "stderr",
     "output_type": "stream",
     "text": [
      "c:\\Users\\admin\\AppData\\Local\\Programs\\Python\\Python311\\Lib\\site-packages\\IPython\\core\\pylabtools.py:152: UserWarning: Creating legend with loc=\"best\" can be slow with large amounts of data.\n",
      "  fig.canvas.print_figure(bytes_io, **kw)\n"
     ]
    },
    {
     "data": {
      "image/png": "[encoded data removed]",
      "text/plain": [
       "<Figure size 1000x600 with 1 Axes>"
      ]
     },
     "metadata": {},
     "output_type": "display_data"
    },
    {
     "data": {
      "image/png": "[encoded data removed]",
      "text/plain": [
       "<Figure size 1000x600 with 1 Axes>"
      ]
     },
     "metadata": {},
     "output_type": "display_data"
    }
   ],
   "source": [
    "# Visualize training data and predictions\n",
    "plt.figure(figsize=(10, 6))\n",
    "plt.plot(y_train, label='Actual')\n",
    "plt.plot(train_predict_inv, label='Predicted')\n",
    "plt.title('Training Data and Predictions')\n",
    "plt.xlabel('Time')\n",
    "plt.ylabel('Value')\n",
    "plt.legend()\n",
    "plt.show()\n",
    "\n",
    "# Visualize testing data and predictions\n",
    "plt.figure(figsize=(10, 6))\n",
    "plt.plot(y_test, label='Actual')\n",
    "plt.plot(test_predict_inv, label='Predicted')\n",
    "plt.title('Testing Data and Predictions')\n",
    "plt.xlabel('Time')\n",
    "plt.ylabel('Value')\n",
    "plt.legend()\n",
    "plt.show()"
   ]
  },
  {
   "cell_type": "code",
   "execution_count": null,
   "metadata": {},
   "outputs": [],
   "source": []
  }
 ],
 "metadata": {
  "kernelspec": {
   "display_name": "Python 3",
   "language": "python",
   "name": "python3"
  },
  "language_info": {
   "codemirror_mode": {
    "name": "ipython",
    "version": 3
   },
   "file_extension": ".py",
   "mimetype": "text/x-python",
   "name": "python",
   "nbconvert_exporter": "python",
   "pygments_lexer": "ipython3",
   "version": "3.11.6"
  }
 },
 "nbformat": 4,
 "nbformat_minor": 2
}
